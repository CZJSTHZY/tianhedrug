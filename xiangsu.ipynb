{
 "cells": [
  {
   "cell_type": "markdown",
   "metadata": {},
   "source": []
  },
  {
   "cell_type": "code",
   "execution_count": 2,
   "metadata": {},
   "outputs": [
    {
     "name": "stderr",
     "output_type": "stream",
     "text": [
      "c:\\Users\\Lmqhhh\\anaconda3\\envs\\MDTRAJ\\lib\\site-packages\\ipykernel_launcher.py:17: DeprecationWarning: ANTIALIAS is deprecated and will be removed in Pillow 10 (2023-07-01). Use Resampling.LANCZOS instead.\n",
      "  app.launch_new_instance()\n"
     ]
    },
    {
     "name": "stdout",
     "output_type": "stream",
     "text": [
      "所有图片已成功调整为 (600, 450) 并保存到 C:\\Users\\Lmqhhh\\Desktop\\lmqfly.github.io\\assets\\img\\resize\n"
     ]
    }
   ],
   "source": [
    "from PIL import Image\n",
    "import os\n",
    "\n",
    "# 指定文件夹路径和目标尺寸\n",
    "input_folder = \"C:\\\\Users\\\\Lmqhhh\\\\Desktop\\\\lmqfly.github.io\\\\assets\\\\img\\\\publications\"  # 输入文件夹路径\n",
    "output_folder = \"C:\\\\Users\\\\Lmqhhh\\\\Desktop\\\\lmqfly.github.io\\\\assets\\\\img\\\\resize\"  # 输出文件夹路径\n",
    "target_size = (600, 450)  # 替换为目标宽度和高度\n",
    "\n",
    "# 创建输出文件夹\n",
    "os.makedirs(output_folder, exist_ok=True)\n",
    "\n",
    "# 批量处理图片\n",
    "for filename in os.listdir(input_folder):\n",
    "    if filename.lower().endswith(('.png', '.jpg', '.jpeg', '.bmp', '.gif')):\n",
    "        with Image.open(os.path.join(input_folder, filename)) as img:\n",
    "            # 调整图片大小\n",
    "            resized_img = img.resize(target_size, Image.ANTIALIAS)\n",
    "            # 保存调整后的图片\n",
    "            resized_img.save(os.path.join(output_folder, filename))\n",
    "\n",
    "print(f\"所有图片已成功调整为 {target_size} 并保存到 {output_folder}\")\n"
   ]
  },
  {
   "cell_type": "code",
   "execution_count": null,
   "metadata": {},
   "outputs": [],
   "source": []
  }
 ],
 "metadata": {
  "kernelspec": {
   "display_name": "MDTRAJ",
   "language": "python",
   "name": "python3"
  },
  "language_info": {
   "codemirror_mode": {
    "name": "ipython",
    "version": 3
   },
   "file_extension": ".py",
   "mimetype": "text/x-python",
   "name": "python",
   "nbconvert_exporter": "python",
   "pygments_lexer": "ipython3",
   "version": "3.7.16"
  }
 },
 "nbformat": 4,
 "nbformat_minor": 2
}
